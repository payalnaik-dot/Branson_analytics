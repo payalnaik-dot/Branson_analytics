{
 "cells": [
  {
   "cell_type": "code",
   "execution_count": 14,
   "metadata": {},
   "outputs": [],
   "source": [
    "import pandas as pd\n",
    "import os\n",
    "from openpyxl import Workbook"
   ]
  },
  {
   "cell_type": "markdown",
   "metadata": {},
   "source": [
    "### EDA "
   ]
  },
  {
   "cell_type": "code",
   "execution_count": 48,
   "metadata": {},
   "outputs": [],
   "source": [
    "data=pd.read_excel(r'c:/Users/E1385584/Documents/Branson/Branson_analytics-1/data/200pcs_samples.xlsx', engine='openpyxl')"
   ]
  },
  {
   "cell_type": "code",
   "execution_count": 53,
   "metadata": {},
   "outputs": [],
   "source": [
    "lst=data.columns"
   ]
  },
  {
   "cell_type": "markdown",
   "metadata": {},
   "source": [
    "#### Rename the columns name"
   ]
  },
  {
   "cell_type": "code",
   "execution_count": 62,
   "metadata": {},
   "outputs": [],
   "source": [
    "data.rename(columns = {'Unnamed: 20':'power_0'}, inplace = True) \n",
    "data.rename(columns = {'Unnamed: 21':'power_1'}, inplace = True) \n",
    "data.rename(columns = {'Unnamed: 22':'power_2'}, inplace = True) \n",
    "data.rename(columns = {'Unnamed: 23':'power_3'}, inplace = True) \n",
    "data.rename(columns = {'Unnamed: 24':'power_4'}, inplace = True) \n",
    "data.rename(columns = {'Unnamed: 25':'power_5'}, inplace = True)\n",
    "data.rename(columns = {'Unnamed: 26':'power_6'}, inplace = True) \n",
    "data.rename(columns = {'Unnamed: 27':'power_7'}, inplace = True) \n",
    "data.rename(columns = {'Unnamed: 28':'power_8'}, inplace = True) \n",
    "data.rename(columns = {'Unnamed: 29':'power_9'}, inplace = True) \n",
    "data.rename(columns = {'Unnamed: 30':'power_10'}, inplace = True) \n",
    "data.rename(columns = {'Unnamed: 31':'power_11'}, inplace = True) \n",
    "data.rename(columns = {'Unnamed: 32':'power_12'}, inplace = True) \n",
    "data.rename(columns = {'Unnamed: 33':'power_13'}, inplace = True) \n",
    "data.rename(columns = {'Unnamed: 34':'power_14'}, inplace = True) \n",
    "data.rename(columns = {'Unnamed: 35':'power_15'}, inplace = True)\n",
    "data.rename(columns = {'Unnamed: 36':'power_16'}, inplace = True) \n",
    "data.rename(columns = {'Unnamed: 37':'power_17'}, inplace = True) \n",
    "data.rename(columns = {'Unnamed: 38':'power_18'}, inplace = True) \n",
    "data.rename(columns = {'Unnamed: 39':'power_19'}, inplace = True) \n",
    "data.rename(columns = {'Unnamed: 40':'power_20'}, inplace = True) \n",
    "data.rename(columns = {'Unnamed: 41':'power_21'}, inplace = True) \n",
    "data.rename(columns = {'Unnamed: 42':'power_22'}, inplace = True) \n",
    "data.rename(columns = {'Unnamed: 43':'power_23'}, inplace = True) \n",
    "data.rename(columns = {'Unnamed: 44':'power_24'}, inplace = True) \n",
    "data.rename(columns = {'Unnamed: 45':'power_25'}, inplace = True)\n",
    "data.rename(columns = {'Unnamed: 46':'power_26'}, inplace = True) \n",
    "data.rename(columns = {'Unnamed: 47':'power_27'}, inplace = True) \n",
    "data.rename(columns = {'Unnamed: 48':'power_28'}, inplace = True) \n",
    "data.rename(columns = {'Unnamed: 49':'power_29'}, inplace = True) \n",
    "data.rename(columns = {'Unnamed: 50':'power_30'}, inplace = True) \n",
    "data.rename(columns = {'Unnamed: 51':'power_31'}, inplace = True) \n",
    "data.rename(columns = {'Unnamed: 52':'power_32'}, inplace = True) \n",
    "data.rename(columns = {'Unnamed: 53':'power_33'}, inplace = True) \n",
    "data.rename(columns = {'Unnamed: 54':'power_34'}, inplace = True) \n",
    "data.rename(columns = {'Unnamed: 55':'power_35'}, inplace = True)\n",
    "data.rename(columns = {'Unnamed: 56':'power_36'}, inplace = True) \n",
    "data.rename(columns = {'Unnamed: 57':'power_37'}, inplace = True) \n",
    "data.rename(columns = {'Unnamed: 58':'power_38'}, inplace = True) \n",
    "data.rename(columns = {'Unnamed: 59':'power_39'}, inplace = True) \n",
    "data.rename(columns = {'Unnamed: 60':'power_40'}, inplace = True) \n",
    "data.rename(columns = {'Unnamed: 61':'power_41'}, inplace = True) \n",
    "data.rename(columns = {'Unnamed: 62':'power_42'}, inplace = True) \n",
    "data.rename(columns = {'Unnamed: 63':'power_43'}, inplace = True) \n",
    "data.rename(columns = {'Unnamed: 64':'power_44'}, inplace = True) \n",
    "data.rename(columns = {'Unnamed: 65':'power_45'}, inplace = True)\n",
    "data.rename(columns = {'Unnamed: 66':'power_46'}, inplace = True) \n",
    "data.rename(columns = {'Unnamed: 67':'power_47'}, inplace = True) \n",
    "data.rename(columns = {'Unnamed: 68':'power_48'}, inplace = True) \n",
    "data.rename(columns = {'Unnamed: 69':'power_49'}, inplace = True) "
   ]
  },
  {
   "cell_type": "markdown",
   "metadata": {},
   "source": [
    "#### Total use columns"
   ]
  },
  {
   "cell_type": "code",
   "execution_count": 63,
   "metadata": {},
   "outputs": [],
   "source": [
    "data=data[['Energy', 'Trigger Pressure', 'Pressure', 'Amplitude', 'Time+', 'Time-',\n",
    "       'Power+', 'Power-', 'PreHeight+', 'PreHeight-', 'Height+', 'Height-',\n",
    "       'Weld results', 'Time', 'Power', 'Pre-Height', 'Height', 'Pull Force',\n",
    "       'Check', 'power_0', 'power_1', 'power_2', 'power_3', 'power_4',\n",
    "       'power_5', 'power_6', 'power_7', 'power_8', 'power_9', 'power_10',\n",
    "       'power_11', 'power_12', 'power_13', 'power_14', 'power_15', 'power_16',\n",
    "       'power_17', 'power_18', 'power_19', 'power_20', 'power_21', 'power_22',\n",
    "       'power_23', 'power_24', 'power_25', 'power_26', 'power_27', 'power_28',\n",
    "       'power_29', 'power_30', 'power_31', 'power_32', 'power_33', 'power_34',\n",
    "       'power_35', 'power_36', 'power_37', 'power_38', 'power_39', 'power_40',\n",
    "       'power_41', 'power_42', 'power_43', 'power_44', 'power_45', 'power_46',\n",
    "       'power_47', 'power_48']]"
   ]
  },
  {
   "cell_type": "code",
   "execution_count": 64,
   "metadata": {},
   "outputs": [
    {
     "data": {
      "text/plain": [
       "Index(['Energy', 'Trigger Pressure', 'Pressure', 'Amplitude', 'Time+', 'Time-',\n",
       "       'Power+', 'Power-', 'PreHeight+', 'PreHeight-', 'Height+', 'Height-',\n",
       "       'Weld results', 'Time', 'Power', 'Pre-Height', 'Height', 'Pull Force',\n",
       "       'Check', 'power_0', 'power_1', 'power_2', 'power_3', 'power_4',\n",
       "       'power_5', 'power_6', 'power_7', 'power_8', 'power_9', 'power_10',\n",
       "       'power_11', 'power_12', 'power_13', 'power_14', 'power_15', 'power_16',\n",
       "       'power_17', 'power_18', 'power_19', 'power_20', 'power_21', 'power_22',\n",
       "       'power_23', 'power_24', 'power_25', 'power_26', 'power_27', 'power_28',\n",
       "       'power_29', 'power_30', 'power_31', 'power_32', 'power_33', 'power_34',\n",
       "       'power_35', 'power_36', 'power_37', 'power_38', 'power_39', 'power_40',\n",
       "       'power_41', 'power_42', 'power_43', 'power_44', 'power_45', 'power_46',\n",
       "       'power_47', 'power_48'],\n",
       "      dtype='object')"
      ]
     },
     "execution_count": 64,
     "metadata": {},
     "output_type": "execute_result"
    }
   ],
   "source": [
    "data.columns"
   ]
  },
  {
   "cell_type": "code",
   "execution_count": 66,
   "metadata": {},
   "outputs": [],
   "source": [
    "data1=data[['Time','Power','Pre-Height','Height','Pull Force']]"
   ]
  },
  {
   "cell_type": "code",
   "execution_count": 67,
   "metadata": {},
   "outputs": [
    {
     "data": {
      "text/html": [
       "<div>\n",
       "<style scoped>\n",
       "    .dataframe tbody tr th:only-of-type {\n",
       "        vertical-align: middle;\n",
       "    }\n",
       "\n",
       "    .dataframe tbody tr th {\n",
       "        vertical-align: top;\n",
       "    }\n",
       "\n",
       "    .dataframe thead th {\n",
       "        text-align: right;\n",
       "    }\n",
       "</style>\n",
       "<table border=\"1\" class=\"dataframe\">\n",
       "  <thead>\n",
       "    <tr style=\"text-align: right;\">\n",
       "      <th></th>\n",
       "      <th>Time</th>\n",
       "      <th>Power</th>\n",
       "      <th>Pre-Height</th>\n",
       "      <th>Height</th>\n",
       "      <th>Pull Force</th>\n",
       "    </tr>\n",
       "  </thead>\n",
       "  <tbody>\n",
       "    <tr>\n",
       "      <th>0</th>\n",
       "      <td>0.33</td>\n",
       "      <td>1320</td>\n",
       "      <td>10.24</td>\n",
       "      <td>10.08</td>\n",
       "      <td>314.3</td>\n",
       "    </tr>\n",
       "    <tr>\n",
       "      <th>1</th>\n",
       "      <td>0.35</td>\n",
       "      <td>1360</td>\n",
       "      <td>10.24</td>\n",
       "      <td>10.04</td>\n",
       "      <td>253.1</td>\n",
       "    </tr>\n",
       "    <tr>\n",
       "      <th>2</th>\n",
       "      <td>0.38</td>\n",
       "      <td>1300</td>\n",
       "      <td>10.24</td>\n",
       "      <td>10.02</td>\n",
       "      <td>217.0</td>\n",
       "    </tr>\n",
       "    <tr>\n",
       "      <th>3</th>\n",
       "      <td>0.40</td>\n",
       "      <td>1320</td>\n",
       "      <td>10.26</td>\n",
       "      <td>10.02</td>\n",
       "      <td>210.0</td>\n",
       "    </tr>\n",
       "    <tr>\n",
       "      <th>4</th>\n",
       "      <td>0.35</td>\n",
       "      <td>1320</td>\n",
       "      <td>10.22</td>\n",
       "      <td>10.06</td>\n",
       "      <td>280.3</td>\n",
       "    </tr>\n",
       "  </tbody>\n",
       "</table>\n",
       "</div>"
      ],
      "text/plain": [
       "   Time  Power  Pre-Height  Height  Pull Force\n",
       "0  0.33   1320       10.24   10.08       314.3\n",
       "1  0.35   1360       10.24   10.04       253.1\n",
       "2  0.38   1300       10.24   10.02       217.0\n",
       "3  0.40   1320       10.26   10.02       210.0\n",
       "4  0.35   1320       10.22   10.06       280.3"
      ]
     },
     "execution_count": 67,
     "metadata": {},
     "output_type": "execute_result"
    }
   ],
   "source": [
    "data1.head(5)"
   ]
  }
 ],
 "metadata": {
  "kernelspec": {
   "display_name": "base",
   "language": "python",
   "name": "python3"
  },
  "language_info": {
   "codemirror_mode": {
    "name": "ipython",
    "version": 3
   },
   "file_extension": ".py",
   "mimetype": "text/x-python",
   "name": "python",
   "nbconvert_exporter": "python",
   "pygments_lexer": "ipython3",
   "version": "3.10.9"
  }
 },
 "nbformat": 4,
 "nbformat_minor": 2
}
